{
  "nbformat": 4,
  "nbformat_minor": 0,
  "metadata": {
    "kernelspec": {
      "display_name": "Python 3",
      "language": "python",
      "name": "python3"
    },
    "language_info": {
      "codemirror_mode": {
        "name": "ipython",
        "version": 3
      },
      "file_extension": ".py",
      "mimetype": "text/x-python",
      "name": "python",
      "nbconvert_exporter": "python",
      "pygments_lexer": "ipython3",
      "version": "3.7.6"
    },
    "colab": {
      "name": "Olympics.ipynb",
      "provenance": []
    }
  },
  "cells": [
    {
      "cell_type": "code",
      "metadata": {
        "id": "IOcZocc-zBmp"
      },
      "source": [
        "import pandas as pd \n"
      ],
      "execution_count": 15,
      "outputs": []
    },
    {
      "cell_type": "code",
      "metadata": {
        "id": "O6IHIiibzBmt"
      },
      "source": [
        "df=pd.read_csv(\"https://raw.githubusercontent.com/Roh-Tripathi/ETG--Olympics-Analysis-/main/summer.csv\")"
      ],
      "execution_count": 16,
      "outputs": []
    },
    {
      "cell_type": "code",
      "metadata": {
        "colab": {
          "base_uri": "https://localhost:8080/",
          "height": 203
        },
        "id": "E9OSAhyQzBmu",
        "outputId": "b5e647c7-974d-4b0b-8b1d-309f0b3b2e3e"
      },
      "source": [
        "df.tail()"
      ],
      "execution_count": 17,
      "outputs": [
        {
          "output_type": "execute_result",
          "data": {
            "text/html": [
              "<div>\n",
              "<style scoped>\n",
              "    .dataframe tbody tr th:only-of-type {\n",
              "        vertical-align: middle;\n",
              "    }\n",
              "\n",
              "    .dataframe tbody tr th {\n",
              "        vertical-align: top;\n",
              "    }\n",
              "\n",
              "    .dataframe thead th {\n",
              "        text-align: right;\n",
              "    }\n",
              "</style>\n",
              "<table border=\"1\" class=\"dataframe\">\n",
              "  <thead>\n",
              "    <tr style=\"text-align: right;\">\n",
              "      <th></th>\n",
              "      <th>Year</th>\n",
              "      <th>City</th>\n",
              "      <th>Sport</th>\n",
              "      <th>Discipline</th>\n",
              "      <th>Athlete</th>\n",
              "      <th>Country</th>\n",
              "      <th>Gender</th>\n",
              "      <th>Event</th>\n",
              "      <th>Medal</th>\n",
              "    </tr>\n",
              "  </thead>\n",
              "  <tbody>\n",
              "    <tr>\n",
              "      <th>31160</th>\n",
              "      <td>2012</td>\n",
              "      <td>London</td>\n",
              "      <td>Wrestling</td>\n",
              "      <td>Wrestling Freestyle</td>\n",
              "      <td>JANIKOWSKI, Damian</td>\n",
              "      <td>POL</td>\n",
              "      <td>Men</td>\n",
              "      <td>Wg 84 KG</td>\n",
              "      <td>Bronze</td>\n",
              "    </tr>\n",
              "    <tr>\n",
              "      <th>31161</th>\n",
              "      <td>2012</td>\n",
              "      <td>London</td>\n",
              "      <td>Wrestling</td>\n",
              "      <td>Wrestling Freestyle</td>\n",
              "      <td>REZAEI, Ghasem Gholamreza</td>\n",
              "      <td>IRI</td>\n",
              "      <td>Men</td>\n",
              "      <td>Wg 96 KG</td>\n",
              "      <td>Gold</td>\n",
              "    </tr>\n",
              "    <tr>\n",
              "      <th>31162</th>\n",
              "      <td>2012</td>\n",
              "      <td>London</td>\n",
              "      <td>Wrestling</td>\n",
              "      <td>Wrestling Freestyle</td>\n",
              "      <td>TOTROV, Rustam</td>\n",
              "      <td>RUS</td>\n",
              "      <td>Men</td>\n",
              "      <td>Wg 96 KG</td>\n",
              "      <td>Silver</td>\n",
              "    </tr>\n",
              "    <tr>\n",
              "      <th>31163</th>\n",
              "      <td>2012</td>\n",
              "      <td>London</td>\n",
              "      <td>Wrestling</td>\n",
              "      <td>Wrestling Freestyle</td>\n",
              "      <td>ALEKSANYAN, Artur</td>\n",
              "      <td>ARM</td>\n",
              "      <td>Men</td>\n",
              "      <td>Wg 96 KG</td>\n",
              "      <td>Bronze</td>\n",
              "    </tr>\n",
              "    <tr>\n",
              "      <th>31164</th>\n",
              "      <td>2012</td>\n",
              "      <td>London</td>\n",
              "      <td>Wrestling</td>\n",
              "      <td>Wrestling Freestyle</td>\n",
              "      <td>LIDBERG, Jimmy</td>\n",
              "      <td>SWE</td>\n",
              "      <td>Men</td>\n",
              "      <td>Wg 96 KG</td>\n",
              "      <td>Bronze</td>\n",
              "    </tr>\n",
              "  </tbody>\n",
              "</table>\n",
              "</div>"
            ],
            "text/plain": [
              "       Year    City      Sport  ... Gender     Event   Medal\n",
              "31160  2012  London  Wrestling  ...    Men  Wg 84 KG  Bronze\n",
              "31161  2012  London  Wrestling  ...    Men  Wg 96 KG    Gold\n",
              "31162  2012  London  Wrestling  ...    Men  Wg 96 KG  Silver\n",
              "31163  2012  London  Wrestling  ...    Men  Wg 96 KG  Bronze\n",
              "31164  2012  London  Wrestling  ...    Men  Wg 96 KG  Bronze\n",
              "\n",
              "[5 rows x 9 columns]"
            ]
          },
          "metadata": {},
          "execution_count": 17
        }
      ]
    },
    {
      "cell_type": "markdown",
      "metadata": {
        "id": "RIaGFzAfzePL"
      },
      "source": [
        "1.In how many cities Summer Olympics  is held so far?"
      ]
    },
    {
      "cell_type": "code",
      "metadata": {
        "colab": {
          "base_uri": "https://localhost:8080/"
        },
        "id": "PI0ouWbhzBmw",
        "outputId": "5fdf6c97-c43d-4842-9a2d-2a7dff3a3acd"
      },
      "source": [
        "df['City'].nunique() # Q1 df['City'].unique() to see unique country "
      ],
      "execution_count": 18,
      "outputs": [
        {
          "output_type": "execute_result",
          "data": {
            "text/plain": [
              "22"
            ]
          },
          "metadata": {},
          "execution_count": 18
        }
      ]
    },
    {
      "cell_type": "markdown",
      "metadata": {
        "id": "eA4GG0hH2U0L"
      },
      "source": [
        "2. Which sport is having most no of Gold medals so far?"
      ]
    },
    {
      "cell_type": "code",
      "metadata": {
        "colab": {
          "base_uri": "https://localhost:8080/"
        },
        "id": "WFE-hY1dzBmx",
        "outputId": "826bd9c1-311a-4404-c009-f7ad404e4ff5"
      },
      "source": [
        "a=df['Sport'][df['Medal']=='Gold'].value_counts()#q2\n",
        "a.head()"
      ],
      "execution_count": 19,
      "outputs": [
        {
          "output_type": "execute_result",
          "data": {
            "text/plain": [
              "Aquatics      1421\n",
              "Athletics     1215\n",
              "Rowing         890\n",
              "Gymnastics     820\n",
              "Fencing        552\n",
              "Name: Sport, dtype: int64"
            ]
          },
          "metadata": {},
          "execution_count": 19
        }
      ]
    },
    {
      "cell_type": "markdown",
      "metadata": {
        "id": "aMfvDgB_2mQu"
      },
      "source": [
        "3.Which sport is having most no of medals so far?"
      ]
    },
    {
      "cell_type": "code",
      "metadata": {
        "colab": {
          "base_uri": "https://localhost:8080/"
        },
        "id": "0rycPPm0zBmy",
        "outputId": "4916bf23-2642-44e9-c71a-cc02b8388c6d"
      },
      "source": [
        "b=df['Sport'].value_counts()#q3\n",
        "b.head()"
      ],
      "execution_count": 20,
      "outputs": [
        {
          "output_type": "execute_result",
          "data": {
            "text/plain": [
              "Aquatics      4170\n",
              "Athletics     3638\n",
              "Rowing        2667\n",
              "Gymnastics    2307\n",
              "Fencing       1613\n",
              "Name: Sport, dtype: int64"
            ]
          },
          "metadata": {},
          "execution_count": 20
        }
      ]
    },
    {
      "cell_type": "markdown",
      "metadata": {
        "id": "lDXCXp163K7T"
      },
      "source": [
        "4.Which player has won most no of medals?"
      ]
    },
    {
      "cell_type": "code",
      "metadata": {
        "colab": {
          "base_uri": "https://localhost:8080/"
        },
        "id": "iOB3crLezBmz",
        "outputId": "3811311c-894f-4138-baab-304a2efd6d13"
      },
      "source": [
        "c=df['Athlete'].value_counts()#q4\n",
        "c.head()"
      ],
      "execution_count": 21,
      "outputs": [
        {
          "output_type": "execute_result",
          "data": {
            "text/plain": [
              "PHELPS, Michael       22\n",
              "LATYNINA, Larisa      18\n",
              "ANDRIANOV, Nikolay    15\n",
              "SHAKHLIN, Boris       13\n",
              "ONO, Takashi          13\n",
              "Name: Athlete, dtype: int64"
            ]
          },
          "metadata": {},
          "execution_count": 21
        }
      ]
    },
    {
      "cell_type": "markdown",
      "metadata": {
        "id": "AYupAnP83y3j"
      },
      "source": [
        "5.Which player has won most no .of Gold medals of medals?"
      ]
    },
    {
      "cell_type": "code",
      "metadata": {
        "colab": {
          "base_uri": "https://localhost:8080/"
        },
        "id": "zMkt_l6ezBm0",
        "outputId": "e5d74752-2549-4280-ae6c-f5e838df9303"
      },
      "source": [
        "x=df['Athlete'][df['Medal']=='Gold'].value_counts() #q5\n",
        "x.head()"
      ],
      "execution_count": 22,
      "outputs": [
        {
          "output_type": "execute_result",
          "data": {
            "text/plain": [
              "PHELPS, Michael     18\n",
              "SPITZ, Mark          9\n",
              "LATYNINA, Larisa     9\n",
              "LEWIS, Carl          9\n",
              "NURMI, Paavo         9\n",
              "Name: Athlete, dtype: int64"
            ]
          },
          "metadata": {},
          "execution_count": 22
        }
      ]
    },
    {
      "cell_type": "markdown",
      "metadata": {
        "id": "I6VnG3Ge4rfz"
      },
      "source": [
        "6.In which year India won first Gold medal in Summer olympics?\n"
      ]
    },
    {
      "cell_type": "code",
      "metadata": {
        "colab": {
          "base_uri": "https://localhost:8080/"
        },
        "id": "t4FXbw055Dsh",
        "outputId": "4e3ed3a5-efb1-4020-d5da-bb0b03f9d90b"
      },
      "source": [
        "Year=0\n",
        "for i in range(len(df)):\n",
        "    if(df['Country'][i]=='IND' and df['Medal'][i]==\"Gold\"):\n",
        "        Year=df['Year'][i]\n",
        "        break\n",
        "print(Year)"
      ],
      "execution_count": 23,
      "outputs": [
        {
          "output_type": "stream",
          "name": "stdout",
          "text": [
            "1928\n"
          ]
        }
      ]
    },
    {
      "cell_type": "markdown",
      "metadata": {
        "id": "DOnNqRpS57oF"
      },
      "source": [
        "7.Which sport is having most female Gold Medalists?"
      ]
    },
    {
      "cell_type": "code",
      "metadata": {
        "colab": {
          "base_uri": "https://localhost:8080/",
          "height": 249
        },
        "id": "c5ILiA5A9Y2Z",
        "outputId": "a21ef503-6d83-4157-e564-dd4fb118e666"
      },
      "source": [
        "d=dict.fromkeys(df['Sport'],0)\n",
        "for i in range(len(df)):\n",
        "    if(df['Gender'][i]=='Women' and df['Medal'][i]==\"Gold\"):\n",
        "        d[df['Sport'][i]]+=1\n",
        "l=d.keys()\n",
        "print(d)\n",
        "print(l)"
      ],
      "execution_count": 27,
      "outputs": [
        {
          "output_type": "stream",
          "name": "stdout",
          "text": [
            "{'Aquatics': 589, 'Athletics': 389, 'Cycling': 45, 'Fencing': 108, 'Gymnastics': 268, 'Shooting': 43, 'Tennis': 38, 'Weightlifting': 28, 'Wrestling': 12, 'Archery': 39, 'Basque Pelota': 0, 'Cricket': 0, 'Croquet': 0, 'Equestrian': 51, 'Football': 86, 'Golf': 1, 'Polo': 0, 'Rowing': 217, 'Rugby': 0, 'Sailing': 38, 'Tug of War': 0, 'Boxing': 3, 'Lacrosse': 0, 'Roque': 0, 'Hockey': 144, 'Jeu de paume': 0, 'Rackets': 0, 'Skating': 4, 'Water Motorsports': 0, 'Modern Pentathlon': 4, 'Ice Hockey': 0, 'Basketball': 120, 'Canoe / Kayak': 76, 'Handball': 142, 'Judo': 42, 'Volleyball': 166, 'Table Tennis': 23, 'Badminton': 23, 'Baseball': 0, 'Softball': 60, 'Taekwondo': 16, 'Triathlon': 4, 'Canoe': 9}\n",
            "dict_keys(['Aquatics', 'Athletics', 'Cycling', 'Fencing', 'Gymnastics', 'Shooting', 'Tennis', 'Weightlifting', 'Wrestling', 'Archery', 'Basque Pelota', 'Cricket', 'Croquet', 'Equestrian', 'Football', 'Golf', 'Polo', 'Rowing', 'Rugby', 'Sailing', 'Tug of War', 'Boxing', 'Lacrosse', 'Roque', 'Hockey', 'Jeu de paume', 'Rackets', 'Skating', 'Water Motorsports', 'Modern Pentathlon', 'Ice Hockey', 'Basketball', 'Canoe / Kayak', 'Handball', 'Judo', 'Volleyball', 'Table Tennis', 'Badminton', 'Baseball', 'Softball', 'Taekwondo', 'Triathlon', 'Canoe'])\n"
          ]
        },
        {
          "output_type": "error",
          "ename": "AttributeError",
          "evalue": "ignored",
          "traceback": [
            "\u001b[0;31m---------------------------------------------------------------------------\u001b[0m",
            "\u001b[0;31mAttributeError\u001b[0m                            Traceback (most recent call last)",
            "\u001b[0;32m<ipython-input-27-23196de1584a>\u001b[0m in \u001b[0;36m<module>\u001b[0;34m()\u001b[0m\n\u001b[1;32m      6\u001b[0m \u001b[0mprint\u001b[0m\u001b[0;34m(\u001b[0m\u001b[0md\u001b[0m\u001b[0;34m)\u001b[0m\u001b[0;34m\u001b[0m\u001b[0;34m\u001b[0m\u001b[0m\n\u001b[1;32m      7\u001b[0m \u001b[0mprint\u001b[0m\u001b[0;34m(\u001b[0m\u001b[0ml\u001b[0m\u001b[0;34m)\u001b[0m\u001b[0;34m\u001b[0m\u001b[0;34m\u001b[0m\u001b[0m\n\u001b[0;32m----> 8\u001b[0;31m \u001b[0ml\u001b[0m\u001b[0;34m.\u001b[0m\u001b[0mhead\u001b[0m\u001b[0;34m(\u001b[0m\u001b[0;34m)\u001b[0m\u001b[0;34m\u001b[0m\u001b[0;34m\u001b[0m\u001b[0m\n\u001b[0m",
            "\u001b[0;31mAttributeError\u001b[0m: 'dict_keys' object has no attribute 'head'"
          ]
        }
      ]
    }
  ]
}